{
 "cells": [
  {
   "cell_type": "markdown",
   "id": "3148ec83-8531-4ea7-a91b-6da3cf5486ec",
   "metadata": {},
   "source": [
    "### asdf\n"
   ]
  },
  {
   "cell_type": "code",
   "execution_count": 1,
   "id": "1a02d54a-260d-4812-843c-b485c7063f81",
   "metadata": {
    "tags": []
   },
   "outputs": [],
   "source": [
    "import os, glob, warnings, re, shutil\n",
    "import numpy as np\n",
    "import pandas as pd\n",
    "warnings.filterwarnings('ignore')\n",
    "import matplotlib.pyplot as plt\n",
    "import scipy.stats as stats\n"
   ]
  },
  {
   "cell_type": "code",
   "execution_count": 31,
   "id": "84c90c8a-ab57-4e40-9062-76762f632331",
   "metadata": {
    "tags": []
   },
   "outputs": [
    {
     "name": "stdout",
     "output_type": "stream",
     "text": [
      "30\n",
      "['commercial_aribnb_30s', 'commercial_att_30s', 'commercial_carscom_30s']\n",
      "59\n",
      "['sub001', 'sub002', 'sub003']\n"
     ]
    }
   ],
   "source": [
    "# prepare spots\n",
    "spot_list = ['commercial_aribnb_30s', 'commercial_att_30s', 'commercial_carscom_30s','commercial_cookies_30s',\n",
    "             'commercial_dominos_30s', 'commercial_doritos_30s','commercial_expedia_30s','commercial_google_pixel_30s',\n",
    "             'commercial_hr_block_30s','commercial_jersey_mikes_30s','commercial_lego_30s','commercial_meta_quest_2_30s',\n",
    "             'commercial_milk_30s','commercial_progressive_30s','commercial_publix_30s','commercial_puma_30s',\n",
    "             'commercial_starbucks_30s','commercial_under_armour_30s',\n",
    "             'health_alcohol_30s','health_alzheimers_30s','health_covid_vaccine_30s','health_diet_30s',\n",
    "             'health_drunk_driving_30s','health_fitness_30s','health_kidney_30s','health_mantherapy_30s',\n",
    "             'health_prediabetes_30s','health_stroke_30s','health_vaping_30s','health_weight_30s']\n",
    "\n",
    "n_spots = len(spot_list)\n",
    "\n",
    "spot_list.sort()\n",
    "print(len(spot_list))\n",
    "print(spot_list[:3])\n",
    "\n",
    "# prepare subject list\n",
    "sub_folders = glob.glob(\"../data/00_raw_data/sub*\")\n",
    "sub_folders.sort()\n",
    "subject_list = []\n",
    "for f in sub_folders:\n",
    "    subject_list.append(f[-6:])\n",
    "\n",
    "n_subjects = len(subject_list)\n",
    "print(n_subjects)\n",
    "print(subject_list[:3])\n",
    "\n",
    "condition_list = ['100', '50nd', '50wd']\n",
    "n_conditions = len(condition_list)"
   ]
  },
  {
   "cell_type": "code",
   "execution_count": 32,
   "id": "74189ac3-2680-4ebc-b41b-ad4bfac5e672",
   "metadata": {
    "tags": []
   },
   "outputs": [
    {
     "data": {
      "text/plain": [
       "F_onewayResult(statistic=2.1841882920941464, pvalue=0.11870403132026298)"
      ]
     },
     "execution_count": 32,
     "metadata": {},
     "output_type": "execute_result"
    }
   ],
   "source": [
    "recall_results = np.zeros((n_spots, 6))\n",
    "\n",
    "for current_spot_index in range(n_spots):\n",
    "    current_spot = spot_list[current_spot_index]\n",
    "    #print(current_spot)\n",
    "    \n",
    "    for current_condition_index in range(n_conditions):  # 0, 1, 2\n",
    "\n",
    "        current_condition = condition_list[current_condition_index]\n",
    "        curr_search_folder = '../data/03_spots_memory_data/' + current_spot + '/' + current_condition + '/' \n",
    "        #print(curr_search_folder)\n",
    "\n",
    "        recalled = glob.glob(os.path.join(curr_search_folder, '*recall1.csv'))\n",
    "        n_recall = len(recalled)\n",
    "\n",
    "        not_recalled = glob.glob(os.path.join(curr_search_folder, '*recall0.csv'))\n",
    "        n_notrecall = len(not_recalled)\n",
    "        \n",
    "        recall_results[current_spot_index, current_condition_index] = n_recall\n",
    "        recall_results[current_spot_index, current_condition_index + 3 ] = n_notrecall\n",
    "        \n",
    "df = pd.DataFrame(recall_results, \n",
    "             columns = ['100_recall','50nd_recall','50wd_recall','100_notrecall','50nd_notrecall','50wd_notrecall'],\n",
    "             index = spot_list)\n",
    "\n",
    "df.to_csv('../data/03_spots_memory_data/aggregated_recall_by_spots.csv')\n",
    "\n",
    "stats.f_oneway(df['100_recall'],\n",
    "               df['50nd_recall'],\n",
    "               df['50wd_recall'])"
   ]
  }
 ],
 "metadata": {
  "kernelspec": {
   "display_name": "Python 3 (ipykernel)",
   "language": "python",
   "name": "python3"
  },
  "language_info": {
   "codemirror_mode": {
    "name": "ipython",
    "version": 3
   },
   "file_extension": ".py",
   "mimetype": "text/x-python",
   "name": "python",
   "nbconvert_exporter": "python",
   "pygments_lexer": "ipython3",
   "version": "3.7.16"
  }
 },
 "nbformat": 4,
 "nbformat_minor": 5
}
