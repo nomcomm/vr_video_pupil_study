{
 "cells": [
  {
   "cell_type": "markdown",
   "id": "3148ec83-8531-4ea7-a91b-6da3cf5486ec",
   "metadata": {},
   "source": [
    "### Assess Memory (Recognition) Performance\n",
    "\n",
    "The goal of this notebook is to read in the prepared memory files (which have been sorted in the previous notebook based on whether participants later recalled them (or not). Plus, we kept track of the condition (100, 50nd, 50wd) in which they viewed the spots. We'll simply compute the overall memory performance by spots and compare which condition yielded the best performance.\n"
   ]
  },
  {
   "cell_type": "code",
   "execution_count": 6,
   "id": "1a02d54a-260d-4812-843c-b485c7063f81",
   "metadata": {
    "tags": []
   },
   "outputs": [],
   "source": [
    "import os, glob, warnings, re, shutil\n",
    "import numpy as np\n",
    "import pandas as pd\n",
    "warnings.filterwarnings('ignore')\n",
    "import matplotlib.pyplot as plt\n",
    "import scipy.stats as stats\n",
    "import seaborn as sns"
   ]
  },
  {
   "cell_type": "code",
   "execution_count": 7,
   "id": "84c90c8a-ab57-4e40-9062-76762f632331",
   "metadata": {
    "tags": []
   },
   "outputs": [
    {
     "name": "stdout",
     "output_type": "stream",
     "text": [
      "30\n",
      "['commercial_aribnb_30s', 'commercial_att_30s', 'commercial_carscom_30s']\n",
      "59\n",
      "['sub001', 'sub002', 'sub003']\n"
     ]
    }
   ],
   "source": [
    "# prepare spots\n",
    "spot_list = ['commercial_aribnb_30s', 'commercial_att_30s', 'commercial_carscom_30s','commercial_cookies_30s',\n",
    "             'commercial_dominos_30s', 'commercial_doritos_30s','commercial_expedia_30s','commercial_google_pixel_30s',\n",
    "             'commercial_hr_block_30s','commercial_jersey_mikes_30s','commercial_lego_30s','commercial_meta_quest_2_30s',\n",
    "             'commercial_milk_30s','commercial_progressive_30s','commercial_publix_30s','commercial_puma_30s',\n",
    "             'commercial_starbucks_30s','commercial_under_armour_30s',\n",
    "             'health_alcohol_30s','health_alzheimers_30s','health_covid_vaccine_30s','health_diet_30s',\n",
    "             'health_drunk_driving_30s','health_fitness_30s','health_kidney_30s','health_mantherapy_30s',\n",
    "             'health_prediabetes_30s','health_stroke_30s','health_vaping_30s','health_weight_30s']\n",
    "\n",
    "n_spots = len(spot_list)\n",
    "\n",
    "spot_list.sort()\n",
    "print(len(spot_list))\n",
    "print(spot_list[:3])\n",
    "\n",
    "# prepare subject list\n",
    "sub_folders = glob.glob(\"../data/00_raw_data/sub*\")\n",
    "sub_folders.sort()\n",
    "subject_list = []\n",
    "for f in sub_folders:\n",
    "    subject_list.append(f[-6:])\n",
    "\n",
    "n_subjects = len(subject_list)\n",
    "print(n_subjects)\n",
    "print(subject_list[:3])\n",
    "\n",
    "condition_list = ['100', '50nd', '50wd']\n",
    "n_conditions = len(condition_list)"
   ]
  },
  {
   "cell_type": "code",
   "execution_count": 8,
   "id": "74189ac3-2680-4ebc-b41b-ad4bfac5e672",
   "metadata": {
    "tags": []
   },
   "outputs": [
    {
     "data": {
      "text/html": [
       "<div>\n",
       "<style scoped>\n",
       "    .dataframe tbody tr th:only-of-type {\n",
       "        vertical-align: middle;\n",
       "    }\n",
       "\n",
       "    .dataframe tbody tr th {\n",
       "        vertical-align: top;\n",
       "    }\n",
       "\n",
       "    .dataframe thead th {\n",
       "        text-align: right;\n",
       "    }\n",
       "</style>\n",
       "<table border=\"1\" class=\"dataframe\">\n",
       "  <thead>\n",
       "    <tr style=\"text-align: right;\">\n",
       "      <th></th>\n",
       "      <th>100_recognition</th>\n",
       "      <th>50nd_recognition</th>\n",
       "      <th>50wd_recognition</th>\n",
       "      <th>100_norecognition</th>\n",
       "      <th>50nd_norecognition</th>\n",
       "      <th>50wd_norecognition</th>\n",
       "    </tr>\n",
       "  </thead>\n",
       "  <tbody>\n",
       "    <tr>\n",
       "      <th>commercial_aribnb_30s</th>\n",
       "      <td>17.0</td>\n",
       "      <td>18.0</td>\n",
       "      <td>17.0</td>\n",
       "      <td>3.0</td>\n",
       "      <td>1.0</td>\n",
       "      <td>3.0</td>\n",
       "    </tr>\n",
       "    <tr>\n",
       "      <th>commercial_att_30s</th>\n",
       "      <td>19.0</td>\n",
       "      <td>14.0</td>\n",
       "      <td>11.0</td>\n",
       "      <td>0.0</td>\n",
       "      <td>6.0</td>\n",
       "      <td>9.0</td>\n",
       "    </tr>\n",
       "    <tr>\n",
       "      <th>commercial_carscom_30s</th>\n",
       "      <td>16.0</td>\n",
       "      <td>13.0</td>\n",
       "      <td>13.0</td>\n",
       "      <td>4.0</td>\n",
       "      <td>5.0</td>\n",
       "      <td>7.0</td>\n",
       "    </tr>\n",
       "    <tr>\n",
       "      <th>commercial_cookies_30s</th>\n",
       "      <td>19.0</td>\n",
       "      <td>18.0</td>\n",
       "      <td>17.0</td>\n",
       "      <td>1.0</td>\n",
       "      <td>1.0</td>\n",
       "      <td>3.0</td>\n",
       "    </tr>\n",
       "    <tr>\n",
       "      <th>commercial_dominos_30s</th>\n",
       "      <td>20.0</td>\n",
       "      <td>17.0</td>\n",
       "      <td>16.0</td>\n",
       "      <td>0.0</td>\n",
       "      <td>1.0</td>\n",
       "      <td>4.0</td>\n",
       "    </tr>\n",
       "  </tbody>\n",
       "</table>\n",
       "</div>"
      ],
      "text/plain": [
       "                        100_recognition  50nd_recognition  50wd_recognition  \\\n",
       "commercial_aribnb_30s              17.0              18.0              17.0   \n",
       "commercial_att_30s                 19.0              14.0              11.0   \n",
       "commercial_carscom_30s             16.0              13.0              13.0   \n",
       "commercial_cookies_30s             19.0              18.0              17.0   \n",
       "commercial_dominos_30s             20.0              17.0              16.0   \n",
       "\n",
       "                        100_norecognition  50nd_norecognition  \\\n",
       "commercial_aribnb_30s                 3.0                 1.0   \n",
       "commercial_att_30s                    0.0                 6.0   \n",
       "commercial_carscom_30s                4.0                 5.0   \n",
       "commercial_cookies_30s                1.0                 1.0   \n",
       "commercial_dominos_30s                0.0                 1.0   \n",
       "\n",
       "                        50wd_norecognition  \n",
       "commercial_aribnb_30s                  3.0  \n",
       "commercial_att_30s                     9.0  \n",
       "commercial_carscom_30s                 7.0  \n",
       "commercial_cookies_30s                 3.0  \n",
       "commercial_dominos_30s                 4.0  "
      ]
     },
     "execution_count": 8,
     "metadata": {},
     "output_type": "execute_result"
    }
   ],
   "source": [
    "recognition_results = np.zeros((n_spots, 6))\n",
    "\n",
    "for current_spot_index in range(n_spots):\n",
    "    current_spot = spot_list[current_spot_index]\n",
    "    #print(current_spot)\n",
    "    \n",
    "    for current_condition_index in range(n_conditions):  # 0, 1, 2\n",
    "\n",
    "        current_condition = condition_list[current_condition_index]\n",
    "        curr_search_folder = '../data/03_spots_memory_data/' + current_spot + '/' + current_condition + '/' \n",
    "        #print(curr_search_folder)\n",
    "\n",
    "        recognized = glob.glob(os.path.join(curr_search_folder, '*recognition1.csv'))\n",
    "        n_recognized = len(recognized)\n",
    "\n",
    "        not_recognized = glob.glob(os.path.join(curr_search_folder, '*recognition0.csv'))\n",
    "        n_notrecognized = len(not_recognized)\n",
    "        \n",
    "        recognition_results[current_spot_index, current_condition_index]      = n_recognized\n",
    "        recognition_results[current_spot_index, current_condition_index + 3 ] = n_notrecognized\n",
    "        \n",
    "df = pd.DataFrame(recognition_results, \n",
    "             columns = ['100_recognition','50nd_recognition','50wd_recognition','100_norecognition','50nd_norecognition','50wd_norecognition'],\n",
    "             index = spot_list)\n",
    "\n",
    "df.head()"
   ]
  },
  {
   "cell_type": "code",
   "execution_count": 9,
   "id": "89214328-de4f-4ac8-925c-38883f9fbca1",
   "metadata": {},
   "outputs": [],
   "source": [
    "df.to_csv('../data/03_spots_memory_data/aggregated_recognition_by_spots_reproduce.csv')\n"
   ]
  },
  {
   "cell_type": "code",
   "execution_count": 10,
   "id": "73535c1e-6d7a-4892-9166-40f4b04a6151",
   "metadata": {
    "tags": []
   },
   "outputs": [
    {
     "data": {
      "image/png": "[encoded data removed]",
      "text/plain": [
       "<Figure size 640x480 with 1 Axes>"
      ]
     },
     "metadata": {},
     "output_type": "display_data"
    }
   ],
   "source": [
    "column_means = df.mean()[:3]\n",
    "#plt.figure(figsize=(10, 6))  # Adjust the figure size as needed\n",
    "sns.barplot(x=column_means.index, y=column_means.values[:3], palette='viridis')\n",
    "plt.title('Mean Values of Columns')\n",
    "plt.xlabel('Columns')\n",
    "plt.ylabel('Mean')\n",
    "plt.xticks(rotation=0)  # Rotate x-axis labels if necessary\n",
    "plt.tight_layout()\n",
    "\n",
    "plt.show()\n",
    "\n",
    "\n"
   ]
  },
  {
   "cell_type": "code",
   "execution_count": null,
   "id": "792ec6f4-e062-4a6f-a25c-10048aa061bd",
   "metadata": {},
   "outputs": [],
   "source": []
  }
 ],
 "metadata": {
  "kernelspec": {
   "display_name": "Python 3 (ipykernel)",
   "language": "python",
   "name": "python3"
  },
  "language_info": {
   "codemirror_mode": {
    "name": "ipython",
    "version": 3
   },
   "file_extension": ".py",
   "mimetype": "text/x-python",
   "name": "python",
   "nbconvert_exporter": "python",
   "pygments_lexer": "ipython3",
   "version": "3.10.12"
  }
 },
 "nbformat": 4,
 "nbformat_minor": 5
}
