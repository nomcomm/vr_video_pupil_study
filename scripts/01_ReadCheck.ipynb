{
 "cells": [
  {
   "cell_type": "markdown",
   "id": "d5ec950e-6852-472a-996a-7db76b3cd5da",
   "metadata": {},
   "source": [
    "### Check viewing/eye-tracking data\n",
    "\n",
    "The purpose of this notebook is to read in the eye-tracking data and create a plot of eye gaze coordinates for different conditions - mainly to check and confirm that gaze distribution is different for different conditions (otherwise, for this project, the eye-gaze coordinates are not that relevant).\n",
    "\n",
    "#### load relevant modules"
   ]
  },
  {
   "cell_type": "code",
   "execution_count": 1,
   "id": "0b0d5824-c920-4d31-94f2-f3642fd2f3aa",
   "metadata": {},
   "outputs": [],
   "source": [
    "import os, glob, warnings\n",
    "import numpy as np\n",
    "import pandas as pd\n",
    "warnings.filterwarnings('ignore')\n",
    "import matplotlib.pyplot as plt\n",
    "from scipy.stats import zscore\n",
    "\n",
    "import numpy as np\n",
    "from scipy import interpolate\n"
   ]
  },
  {
   "cell_type": "code",
   "execution_count": 2,
   "id": "9ebd307b-a631-4e96-876c-381e1aaa4f64",
   "metadata": {},
   "outputs": [
    {
     "name": "stdout",
     "output_type": "stream",
     "text": [
      "59\n"
     ]
    },
    {
     "data": {
      "text/plain": [
       "['sub001', 'sub002', 'sub003']"
      ]
     },
     "execution_count": 2,
     "metadata": {},
     "output_type": "execute_result"
    }
   ],
   "source": [
    "folders = glob.glob(\"../data/00_raw_data/sub*\")\n",
    "folders.sort()\n",
    "subjs = []\n",
    "for f in folders:\n",
    "    subjs.append(f[-6:])\n",
    "\n",
    "n_subjs = len(subjs)\n",
    "print(n_subjs)\n",
    "\n",
    "subjs[:3]"
   ]
  },
  {
   "cell_type": "markdown",
   "id": "f33f96da-f593-4b7b-83e6-ad15c9ee091c",
   "metadata": {},
   "source": [
    "#### read all individual video data, append the x and y coordinates based on the condition 100/50nd-50wd"
   ]
  },
  {
   "cell_type": "code",
   "execution_count": 3,
   "id": "56843cab-384c-420d-89e9-837d7a343b12",
   "metadata": {},
   "outputs": [],
   "source": [
    "x_vals_100 = []\n",
    "y_vals_100 = []\n",
    "\n",
    "x_vals_50wd = []\n",
    "y_vals_50wd = []\n",
    "\n",
    "x_vals_50nd = []\n",
    "y_vals_50nd = []\n",
    "\n",
    "for curr_sub in range(n_subjs): \n",
    "\n",
    "    #print(subjs[curr_sub])\n",
    "    \n",
    "    file_path = '../data/01_parsed_video_data/' + subjs[curr_sub]\n",
    "    files_to_load = [f for f in os.listdir(file_path)]\n",
    "    #files_to_load\n",
    "\n",
    "    for curr_file in files_to_load:\n",
    "        compare  = curr_file[-8:-4]\n",
    "        df = pd.read_csv(file_path + '/' + curr_file)\n",
    "\n",
    "        if compare == '_100':\n",
    "            #print(curr_file)\n",
    "            x_vals_100.extend(df['point x '].values[300:500])\n",
    "            y_vals_100.extend(df['point y '].values[300:500])\n",
    "        elif compare == '50wd':\n",
    "            x_vals_50wd.extend(df['point x '].values[300:500])\n",
    "            y_vals_50wd.extend(df['point y '].values[300:500])\n",
    "        elif compare == '50nd':\n",
    "            x_vals_50nd.extend(df['point x '].values[300:500])\n",
    "            y_vals_50nd.extend(df['point y '].values[300:500])"
   ]
  },
  {
   "cell_type": "markdown",
   "id": "ffd73284-a1cb-4054-974b-b4b9191f8ed5",
   "metadata": {},
   "source": [
    "#### Plot"
   ]
  },
  {
   "cell_type": "code",
   "execution_count": 4,
   "id": "aa00c376-65ab-4b69-993a-ca4ac2481673",
   "metadata": {},
   "outputs": [
    {
     "data": {
      "image/png": "[encoded data removed]",
      "text/plain": [
       "<Figure size 1000x200 with 6 Axes>"
      ]
     },
     "metadata": {},
     "output_type": "display_data"
    }
   ],
   "source": [
    "plt.figure(figsize = ( 10 , 2))\n",
    "plt.subplot(1,3,1)\n",
    "plt.hist2d(x_vals_100, y_vals_100, bins=(30, 30), cmap=plt.cm.Greens, vmin=0, vmax=800);\n",
    "plt.ylim([1, 2.5])\n",
    "plt.xlim([-1.2, 1.5])\n",
    "plt.colorbar();\n",
    "plt.axis('off')\n",
    "plt.title('100%');\n",
    "\n",
    "plt.subplot(1,3,2)\n",
    "plt.hist2d(x_vals_50nd, y_vals_50nd, bins=(30, 30), cmap=plt.cm.Blues, vmin=0, vmax=800);\n",
    "plt.ylim([1, 2.5])\n",
    "plt.xlim([-1.2, 1.5])\n",
    "plt.colorbar();\n",
    "plt.axis('off')\n",
    "plt.title('50% no distractor');\n",
    "\n",
    "plt.subplot(1,3,3)\n",
    "plt.hist2d(x_vals_50wd, y_vals_50wd, bins=(30, 30), cmap=plt.cm.Reds, vmin=0, vmax=800);\n",
    "plt.ylim([1, 2.5])\n",
    "plt.xlim([-1.2, 1.5])\n",
    "plt.colorbar();\n",
    "plt.axis('off')\n",
    "plt.title('50% with distractors');"
   ]
  },
  {
   "cell_type": "code",
   "execution_count": null,
   "id": "99c3c580-a8f0-487e-9ce1-41a3c7b5cdb7",
   "metadata": {},
   "outputs": [],
   "source": []
  }
 ],
 "metadata": {
  "kernelspec": {
   "display_name": "Python 3 (ipykernel)",
   "language": "python",
   "name": "python3"
  },
  "language_info": {
   "codemirror_mode": {
    "name": "ipython",
    "version": 3
   },
   "file_extension": ".py",
   "mimetype": "text/x-python",
   "name": "python",
   "nbconvert_exporter": "python",
   "pygments_lexer": "ipython3",
   "version": "3.10.12"
  }
 },
 "nbformat": 4,
 "nbformat_minor": 5
}
